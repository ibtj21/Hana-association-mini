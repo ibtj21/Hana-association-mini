{
 "cells": [
  {
   "cell_type": "markdown",
   "id": "59e25433",
   "metadata": {},
   "source": [
    "# **Association Rule Mining with Simulated Data**"
   ]
  },
  {
   "cell_type": "markdown",
   "id": "74d35a03",
   "metadata": {},
   "source": [
    "##### Importing Necessary Libraries"
   ]
  },
  {
   "cell_type": "code",
   "execution_count": 19,
   "id": "c9cc7018",
   "metadata": {},
   "outputs": [],
   "source": [
    "# Import pandas for data manipulation and analysis\n",
    "# Import apriori and association_rules from mlxtend for association rule mining\n",
    "import pandas as pd\n",
    "from mlxtend.frequent_patterns import apriori, association_rules"
   ]
  },
  {
   "cell_type": "markdown",
   "id": "0af3dbf6",
   "metadata": {},
   "source": [
    "### **1. Simulate Transaction Data**"
   ]
  },
  {
   "cell_type": "code",
   "execution_count": 20,
   "id": "6d541763",
   "metadata": {},
   "outputs": [],
   "source": [
    "# Simulated transaction data:\n",
    "# Each sublist represents a shopping transaction containing 2–5 items.\n",
    "# The items are selected from a pool of at least 10 unique grocery products.\n",
    "transactions = [\n",
    "    ['Bread', 'Milk'],\n",
    "    ['Bread', 'Eggs', 'Cheese'],\n",
    "    ['Milk', 'Eggs', 'Butter'],\n",
    "    ['Milk', 'Cheese', 'Apples'],\n",
    "    ['Bread', 'Butter', 'Eggs'],\n",
    "    ['Milk', 'Cheese', 'Juice'],\n",
    "    ['Bread', 'Milk', 'Butter'],\n",
    "    ['Cheese', 'Eggs', 'Tomatoes'],\n",
    "    ['Bread', 'Butter', 'Apples'],\n",
    "    ['Milk', 'Bread', 'Cheese', 'Eggs']\n",
    "]"
   ]
  },
  {
   "cell_type": "markdown",
   "id": "9bc93bc8",
   "metadata": {},
   "source": [
    "___\n",
    "- Created at least 10 fake transactions using Python.\n",
    "- Each transaction contains 2 to 5 items.\n",
    "- Items are selected from a pool of at least 8 unique grocery items (e.g., Bread, Milk, Eggs, Cheese, etc.).\n",
    "____\n",
    "\n"
   ]
  },
  {
   "cell_type": "markdown",
   "id": "0e046638",
   "metadata": {},
   "source": [
    "### **2. Analyze with Apriori**"
   ]
  },
  {
   "cell_type": "code",
   "execution_count": 21,
   "id": "0455118d",
   "metadata": {},
   "outputs": [],
   "source": [
    "# One-hot encode the transaction data:\n",
    "# 1. Extract all unique items across all transactions and sort them.\n",
    "items = sorted(set(item for transaction in transactions for item in transaction))\n",
    "\n",
    "# 2. Create a list of dictionaries where each transaction is represented by True/False \n",
    "#    for the presence of each item (one-hot encoding).\n",
    "encoded_transactions = [{item: (item in transaction) for item in items} for transaction in transactions]\n",
    "\n",
    "# 3. Convert the list of dictionaries to a pandas DataFrame.\n",
    "df = pd.DataFrame(encoded_transactions)\n",
    "\n",
    "# Apply the Apriori algorithm to find frequent itemsets with minimum support of 0.3 (30%).\n",
    "frequent_itemsets = apriori(df, min_support=0.3, use_colnames=True)"
   ]
  },
  {
   "cell_type": "markdown",
   "id": "657f1f10",
   "metadata": {},
   "source": [
    "____\n",
    "- Converted the transaction data into one-hot encoded format using pandas.\n",
    "  - Each unique item becomes a column, and transactions are represented as rows with `True/False` values.\n",
    "- Applied the Apriori algorithm (from `mlxtend.frequent_patterns`) to identify frequent itemsets.\n",
    "- Set the minimum support threshold to **0.3 (30%)** to filter itemsets that appear in at least 3 out of 10 transactions.\n",
    "____\n"
   ]
  },
  {
   "cell_type": "markdown",
   "id": "4bc832f7",
   "metadata": {},
   "source": [
    "### **3.Generate Rules and show results**"
   ]
  },
  {
   "cell_type": "code",
   "execution_count": 22,
   "id": "54c22402",
   "metadata": {},
   "outputs": [
    {
     "name": "stdout",
     "output_type": "stream",
     "text": [
      "Frequent Itemsets:\n",
      "    support         itemsets\n",
      "0      0.6          (Bread)\n",
      "1      0.4         (Butter)\n",
      "2      0.5         (Cheese)\n",
      "3      0.5           (Eggs)\n",
      "4      0.6           (Milk)\n",
      "5      0.3  (Bread, Butter)\n",
      "6      0.3    (Bread, Eggs)\n",
      "7      0.3    (Bread, Milk)\n",
      "8      0.3   (Eggs, Cheese)\n",
      "9      0.3   (Milk, Cheese)\n",
      "\n",
      "Association Rules:\n",
      "   antecedents consequents  support  confidence  lift\n",
      "0    (Butter)     (Bread)      0.3        0.75  1.25\n",
      "\n",
      "Rule: If a customer buys {'Butter'}, they are likely to also buy {'Bread'} with 75.0% confidence.\n"
     ]
    }
   ],
   "source": [
    "# Generate association rules\n",
    "rules = association_rules(frequent_itemsets, metric='confidence', min_threshold=0.7)\n",
    "\n",
    "# Show results\n",
    "print(\"Frequent Itemsets:\\n\", frequent_itemsets)\n",
    "print(\"\\nAssociation Rules:\\n\", rules[['antecedents', 'consequents', 'support', 'confidence', 'lift']])\n",
    "\n",
    "# Pick and explain one rule\n",
    "for _, row in rules.iterrows():\n",
    "    print(f\"\\nRule: If a customer buys {set(row['antecedents'])}, they are likely to also buy {set(row['consequents'])} with {round(row['confidence']*100, 2)}% confidence.\")\n",
    "    break  # Only show one example\n"
   ]
  },
  {
   "cell_type": "markdown",
   "id": "5209c957",
   "metadata": {},
   "source": [
    "____\n",
    "- Generated association rules from the frequent itemsets using the `association_rules` function.\n",
    "- Used **confidence** as the metric with a minimum threshold of **0.7 (70%)**.\n",
    "- Displayed the rules along with support, confidence, and lift values.\n",
    "- Interpreted one rule in plain language to explain what it means in a real-world shopping scenario.\n",
    "  - Example: If a customer buys Butter, they are likely to also buy Bread with 75% confidence.\n",
    "_____\n",
    "\n",
    "```python\n",
    "  \n"
   ]
  }
 ],
 "metadata": {
  "kernelspec": {
   "display_name": "Python 3",
   "language": "python",
   "name": "python3"
  },
  "language_info": {
   "codemirror_mode": {
    "name": "ipython",
    "version": 3
   },
   "file_extension": ".py",
   "mimetype": "text/x-python",
   "name": "python",
   "nbconvert_exporter": "python",
   "pygments_lexer": "ipython3",
   "version": "3.12.10"
  }
 },
 "nbformat": 4,
 "nbformat_minor": 5
}
